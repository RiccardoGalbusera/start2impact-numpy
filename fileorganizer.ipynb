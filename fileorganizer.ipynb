{
 "cells": [
  {
   "cell_type": "markdown",
   "metadata": {},
   "source": [
    "Nella cartella *files* trovi 8 file:\n",
    "- 2 file di testo\n",
    "- 2 file audio\n",
    "- 4 immagini,\n",
    "\n",
    "con varie estensioni.\n",
    "\n",
    "**Step 1**\n",
    "\n",
    "Inizia creando, in un notebook, uno script Python che iteri in ordine alfabetico sui file della cartella files e, a seconda del tipo (audio, documento, immagine), li sposti nella relativa sottocartella (qui sotto trovi un esempio). Se la sottocartella non esiste, il tuo script dovrà crearla automaticamente.\n",
    "\n",
    "Durante il ciclo, lo script deve stampare le informazioni dei file: nome, tipo e dimensione in byte. Questo è l'output desiderato:"
   ]
  },
  {
   "cell_type": "code",
   "execution_count": null,
   "metadata": {},
   "outputs": [],
   "source": [
    "import os\n",
    "import shutil\n",
    "import csv\n",
    "\n",
    "FILES_FOLDER = \"files\"\n",
    "OUTPUT_CSV = \"recap.csv\"\n",
    "\n",
    "# gets the extension of a file, returns None if there is no extension\n",
    "def get_extension(filename):\n",
    "    if filename.count(\".\") == 0:\n",
    "        return None\n",
    "    return filename.split(\".\")[-1]\n",
    "\n",
    "# gets the type of file based on its extension\n",
    "def get_type(filename):\n",
    "    extension = get_extension(filename)\n",
    "    if extension == \"mp3\":\n",
    "        return \"audio\"\n",
    "    if extension in [\"odt\", \"txt\"]:\n",
    "        return \"docs\"\n",
    "    if extension in [\"jpg\", \"jpeg\", \"png\"]:\n",
    "        return \"images\"\n",
    "    return None\n",
    "\n",
    "# utility function to load the CSV file\n",
    "def load_csv(filepath):\n",
    "    data = []\n",
    "    if os.path.exists(filepath):\n",
    "        with open(filepath, \"r\") as file:\n",
    "            reader = csv.reader(file)\n",
    "            for row in reader:\n",
    "                data.append(row)\n",
    "    return data\n",
    "\n",
    "# create the directories if they don't exist\n",
    "for directory in [\"files/audio\", \"files/docs\", \"files/images\"]:\n",
    "    if not os.path.exists(directory):\n",
    "        os.mkdir(directory)"
   ]
  },
  {
   "cell_type": "markdown",
   "metadata": {},
   "source": [
    "Oltre a stamparne le informazioni via via che li sposti, tieni traccia dei file creando un documento *recap.csv* con le stesse informazioni. Trovi un esempio in questa cartella.\n",
    "\n",
    "La struttura finale della cartella files dovrà essere:\n",
    "\n",
    "        - files            \n",
    "            - audio\n",
    "                - song1.mp3\n",
    "                - song2.mp3\n",
    "            - docs\n",
    "                - ciao.txt\n",
    "                - pippo.odt\n",
    "            - images\n",
    "                - bw.png\n",
    "                - daffodil.jpg\n",
    "                - eclipse.png\n",
    "                - trump.jpeg    \n",
    "            - recap.csv\n",
    "\n",
    "Commenta il codice con i passaggi che fai. Questo vale anche per i prossimi Step.\n",
    "\n",
    "**Attenzione**: lo script, ogni volta che viene lanciato per spostare nuovi file, deve *aggiornare* (e non sovrascrivere) le sottocartelle e il file di recap. Per controllare che tutto funzioni correttamente, puoi aggiungere altri file alla cartella files e fare un test; oppure, puoi dividere gli 8 file originali in due gruppi e lasciarne uno per il test.\n",
    "\n",
    "**Consiglio**: puoi usare le librerie *os*, *shutil* e *csv*. \n",
    "                \n",
    "---"
   ]
  },
  {
   "cell_type": "markdown",
   "metadata": {},
   "source": [
    "**Step 2**\n",
    "\n",
    "Inserisci lo script che hai creato in un piccolo eseguibile (chiamalo *addfile.py* e posizionalo in questa cartella, a fianco del notebook) dotato di *interfaccia a linea di comando* (CLI).\n",
    "\n",
    "Lo scopo dell'eseguibile è spostare un *singolo* file (che si trova nella cartella files) nella sottocartella di competenza, aggiornando il recap.\n",
    "\n",
    "L'interfaccia dell'eseguibile ha come unico argomento (obbligatorio) il nome del file da spostare (comprensivo di formato, es: 'trump.jpeg'). Nel caso in cui il file passato come argomento non esista, l'interfaccia deve comunicarlo all'utente.\n",
    "\n",
    "**Consiglio**: oltre alle precedenti, puoi usare le librerie *sys* e *argparse*.\n",
    "\n",
    "---"
   ]
  },
  {
   "cell_type": "markdown",
   "metadata": {},
   "source": [
    "**Step 3**\n",
    "\n",
    "Una immagine in scala di grigio ha un solo livello di colore, una RGB ne ha 3, una RGBA 4 (l'ultimo è detto canale *alpha*).\n",
    "\n",
    "Il modulo *Image* della libreria *PIL* permette di caricare un'immagine, che può essere trasformata in un array NumPy attraverso la funzione *np.array*. A partire da tale array, è possibile capire se l'immagine caricata è in scala di grigio, RGB o RGBA.\n",
    "\n",
    "Aggiungi al notebook dello Step 1 uno script che iteri sulla sottocartella *images* e costruisca una tabella riassuntiva come questa (prodotta con la libreria *tabulate*):"
   ]
  },
  {
   "cell_type": "code",
   "execution_count": 43,
   "metadata": {},
   "outputs": [
    {
     "name": "stdout",
     "output_type": "stream",
     "text": [
      "+--------------------+--------------------+--------------------+-------------------+-------------------+--------------+--------+-------+\n",
      "|     Grayscale      |         R          |         G          |         B         |         A         |     name     | height | width |\n",
      "+--------------------+--------------------+--------------------+-------------------+-------------------+--------------+--------+-------+\n",
      "|         0          | 109.25114626865671 | 85.55517611940299  | 4.967289552238806 |         0         | daffodil.jpg |  500   |  335  |\n",
      "|         0          | 97.01080973671138  | 98.99407848981619  | 90.9237953303527  |         0         |  trump.jpeg  |  183   |  275  |\n",
      "| 21.480064392089844 |         0          |         0          |         0         |         0         |    bw.png    |  512   |  512  |\n",
      "|         0          | 109.04953002929688 | 109.52186584472656 | 39.8489990234375  | 133.5909423828125 | eclipse.png  |  256   |  256  |\n",
      "+--------------------+--------------------+--------------------+-------------------+-------------------+--------------+--------+-------+\n"
     ]
    }
   ],
   "source": [
    "from PIL import Image\n",
    "import numpy as np\n",
    "import tabulate\n",
    "\n",
    "# get mean of the grayscale values, if the image is color, returns 0\n",
    "def get_grayscale_mean(img_arr):\n",
    "    if len(img_arr.shape) == 2:\n",
    "        return np.mean(img_arr)\n",
    "    else:\n",
    "        return 0\n",
    "\n",
    "# get mean of the color values, if the image is grayscale, returns 0\n",
    "def get_color_mean(img_arr, idx):\n",
    "    if len(img_arr.shape) == 2:\n",
    "        return 0\n",
    "    elif img_arr.shape[2] > idx:\n",
    "        return np.mean(img_arr[:,:,idx])\n",
    "    else:\n",
    "        return 0 \n",
    "    \n",
    "# get the mean of the color levels of an image\n",
    "def get_color_levels_mean(img_arr):\n",
    "    return {\n",
    "        \"Grayscale\": get_grayscale_mean(img_arr),\n",
    "        \"R\": get_color_mean(img_arr, 0),\n",
    "        \"G\": get_color_mean(img_arr, 1),\n",
    "        \"B\": get_color_mean(img_arr, 2),\n",
    "        \"A\": get_color_mean(img_arr, 3),\n",
    "    }\n",
    "\n",
    "IMAGES_FOLDER = f\"{FILES_FOLDER}/images\"\n",
    "images = os.listdir(IMAGES_FOLDER)\n",
    "data = []\n",
    "\n",
    "# process each image\n",
    "for image in images:\n",
    "    img = Image.open(f\"{IMAGES_FOLDER}/{image}\")\n",
    "    img_data = get_color_levels_mean(np.array(img))\n",
    "    img_data[\"name\"] = image\n",
    "    img_data[\"height\"] = img.height\n",
    "    img_data[\"width\"] = img.width\n",
    "    data.append(img_data)\n",
    "\n",
    "print(tabulate.tabulate(data, headers=\"keys\", tablefmt=\"pretty\"))"
   ]
  },
  {
   "cell_type": "markdown",
   "metadata": {},
   "source": [
    "Oltre al nome del file, la tabella riporta:\n",
    "\n",
    "- altezza dell'immagine, in pixel\n",
    "- larghezza dell'immagine, in pixel\n",
    "- se l'immagine è in scala di grigio, la colonna *grayscale* indica la media dei valori dell'unico livello di colore\n",
    "- se l'immagine è a colori, le altre colonne indicano la media dei valori di ogni livello di colore.\n",
    "\n",
    "---"
   ]
  },
  {
   "cell_type": "markdown",
   "metadata": {},
   "source": [
    "**Dovrai consegnare**:\n",
    "- un notebook con gli Step 1 e 3; per semplicità puoi chiamarlo come questo\n",
    "- addfile.py con quanto richiesto dallo Step 2."
   ]
  }
 ],
 "metadata": {
  "kernelspec": {
   "display_name": "base",
   "language": "python",
   "name": "python3"
  },
  "language_info": {
   "codemirror_mode": {
    "name": "ipython",
    "version": 3
   },
   "file_extension": ".py",
   "mimetype": "text/x-python",
   "name": "python",
   "nbconvert_exporter": "python",
   "pygments_lexer": "ipython3",
   "version": "3.12.7"
  }
 },
 "nbformat": 4,
 "nbformat_minor": 2
}
